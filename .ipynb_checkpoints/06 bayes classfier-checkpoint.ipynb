{
 "cells": [
  {
   "cell_type": "code",
   "execution_count": 89,
   "metadata": {},
   "outputs": [
    {
     "name": "stdout",
     "output_type": "stream",
     "text": [
      "what's up\n"
     ]
    }
   ],
   "source": [
    "print('what\\'s up')"
   ]
  },
  {
   "cell_type": "markdown",
   "metadata": {},
   "source": [
    "# notebook imports"
   ]
  },
  {
   "cell_type": "code",
   "execution_count": 144,
   "metadata": {},
   "outputs": [],
   "source": [
    "from os import walk\n",
    "from os.path import join\n",
    "\n",
    "import pandas as pd\n",
    "import matplotlib.pyplot as plt\n",
    "\n",
    "import nltk\n",
    "from nltk.stem import PorterStemmer\n",
    "from nltk.corpus import stopwords\n",
    "from nltk.tokenize import word_tokenize\n",
    "\n",
    "from wordcloud import WordCloud\n",
    "\n",
    "from bs4 import BeautifulSoup\n",
    "\n",
    "%matplotlib inline"
   ]
  },
  {
   "cell_type": "markdown",
   "metadata": {},
   "source": [
    "#  constants"
   ]
  },
  {
   "cell_type": "code",
   "execution_count": 91,
   "metadata": {},
   "outputs": [],
   "source": [
    "EXAMPLE_FILE = 'SpamData/01_Processing/practice_email.txt'\n",
    "\n",
    "SPAM_1_PATH = 'SpamData/01_Processing/spam_assassin_corpus/spam_1'\n",
    "SPAM_2_PATH = 'SpamData/01_Processing/spam_assassin_corpus/spam_2'\n",
    "EASY_NONSPAM_1_PATH = 'SpamData/01_Processing/spam_assassin_corpus/easy_ham_1'\n",
    "EASY_NONSPAM_2_PATH = 'SpamData/01_Processing/spam_assassin_corpus/easy_ham_2'\n",
    "\n",
    "SPAM_CAT =1\n",
    "HAM_CAT = 0\n",
    "\n",
    "DATA_JSON_FILE = 'SpamData/01_Processing/email-text-data.json'"
   ]
  },
  {
   "cell_type": "markdown",
   "metadata": {},
   "source": [
    "# Reading Files"
   ]
  },
  {
   "cell_type": "code",
   "execution_count": 92,
   "metadata": {},
   "outputs": [
    {
     "name": "stdout",
     "output_type": "stream",
     "text": [
      "From exmh-workers-admin@redhat.com  Thu Aug 22 12:36:23 2002\n",
      "Return-Path: <exmh-workers-admin@spamassassin.taint.org>\n",
      "Delivered-To: zzzz@localhost.netnoteinc.com\n",
      "Received: from localhost (localhost [127.0.0.1])\n",
      "\tby phobos.labs.netnoteinc.com (Postfix) with ESMTP id D03E543C36\n",
      "\tfor <zzzz@localhost>; Thu, 22 Aug 2002 07:36:16 -0400 (EDT)\n",
      "Received: from phobos [127.0.0.1]\n",
      "\tby localhost with IMAP (fetchmail-5.9.0)\n",
      "\tfor zzzz@localhost (single-drop); Thu, 22 Aug 2002 12:36:16 +0100 (IST)\n",
      "Received: from listman.spamassassin.taint.org (listman.spamassassin.taint.org [66.187.233.211]) by\n",
      "    dogma.slashnull.org (8.11.6/8.11.6) with ESMTP id g7MBYrZ04811 for\n",
      "    <zzzz-exmh@spamassassin.taint.org>; Thu, 22 Aug 2002 12:34:53 +0100\n",
      "Received: from listman.spamassassin.taint.org (localhost.localdomain [127.0.0.1]) by\n",
      "    listman.redhat.com (Postfix) with ESMTP id 8386540858; Thu, 22 Aug 2002\n",
      "    07:35:02 -0400 (EDT)\n",
      "Delivered-To: exmh-workers@listman.spamassassin.taint.org\n",
      "Received: from int-mx1.corp.spamassassin.taint.org (int-mx1.corp.spamassassin.taint.org\n",
      "    [172.16.52.254]) by listman.redhat.com (Postfix) with ESMTP id 10CF8406D7\n",
      "    for <exmh-workers@listman.redhat.com>; Thu, 22 Aug 2002 07:34:10 -0400\n",
      "    (EDT)\n",
      "Received: (from mail@localhost) by int-mx1.corp.spamassassin.taint.org (8.11.6/8.11.6)\n",
      "    id g7MBY7g11259 for exmh-workers@listman.redhat.com; Thu, 22 Aug 2002\n",
      "    07:34:07 -0400\n",
      "Received: from mx1.spamassassin.taint.org (mx1.spamassassin.taint.org [172.16.48.31]) by\n",
      "    int-mx1.corp.redhat.com (8.11.6/8.11.6) with SMTP id g7MBY7Y11255 for\n",
      "    <exmh-workers@redhat.com>; Thu, 22 Aug 2002 07:34:07 -0400\n",
      "Received: from ratree.psu.ac.th ([202.28.97.6]) by mx1.spamassassin.taint.org\n",
      "    (8.11.6/8.11.6) with SMTP id g7MBIhl25223 for <exmh-workers@redhat.com>;\n",
      "    Thu, 22 Aug 2002 07:18:55 -0400\n",
      "Received: from delta.cs.mu.OZ.AU (delta.coe.psu.ac.th [172.30.0.98]) by\n",
      "    ratree.psu.ac.th (8.11.6/8.11.6) with ESMTP id g7MBWel29762;\n",
      "    Thu, 22 Aug 2002 18:32:40 +0700 (ICT)\n",
      "Received: from munnari.OZ.AU (localhost [127.0.0.1]) by delta.cs.mu.OZ.AU\n",
      "    (8.11.6/8.11.6) with ESMTP id g7MBQPW13260; Thu, 22 Aug 2002 18:26:25\n",
      "    +0700 (ICT)\n",
      "From: Robert Elz <kre@munnari.OZ.AU>\n",
      "To: Chris Garrigues <cwg-dated-1030377287.06fa6d@DeepEddy.Com>\n",
      "Cc: exmh-workers@spamassassin.taint.org\n",
      "Subject: Re: New Sequences Window\n",
      "In-Reply-To: <1029945287.4797.TMDA@deepeddy.vircio.com>\n",
      "References: <1029945287.4797.TMDA@deepeddy.vircio.com>\n",
      "    <1029882468.3116.TMDA@deepeddy.vircio.com> <9627.1029933001@munnari.OZ.AU>\n",
      "    <1029943066.26919.TMDA@deepeddy.vircio.com>\n",
      "    <1029944441.398.TMDA@deepeddy.vircio.com>\n",
      "MIME-Version: 1.0\n",
      "Content-Type: text/plain; charset=us-ascii\n",
      "Message-Id: <13258.1030015585@munnari.OZ.AU>\n",
      "X-Loop: exmh-workers@spamassassin.taint.org\n",
      "Sender: exmh-workers-admin@spamassassin.taint.org\n",
      "Errors-To: exmh-workers-admin@spamassassin.taint.org\n",
      "X-Beenthere: exmh-workers@spamassassin.taint.org\n",
      "X-Mailman-Version: 2.0.1\n",
      "Precedence: bulk\n",
      "List-Help: <mailto:exmh-workers-request@spamassassin.taint.org?subject=help>\n",
      "List-Post: <mailto:exmh-workers@spamassassin.taint.org>\n",
      "List-Subscribe: <https://listman.spamassassin.taint.org/mailman/listinfo/exmh-workers>,\n",
      "    <mailto:exmh-workers-request@redhat.com?subject=subscribe>\n",
      "List-Id: Discussion list for EXMH developers <exmh-workers.spamassassin.taint.org>\n",
      "List-Unsubscribe: <https://listman.spamassassin.taint.org/mailman/listinfo/exmh-workers>,\n",
      "    <mailto:exmh-workers-request@redhat.com?subject=unsubscribe>\n",
      "List-Archive: <https://listman.spamassassin.taint.org/mailman/private/exmh-workers/>\n",
      "Date: Thu, 22 Aug 2002 18:26:25 +0700\n",
      "\n",
      "\n",
      "Dear Mr Still\n",
      "\n",
      "Good tidings to you and all your staff for the festive season ahead (Christmas).\n",
      "Now to the crux of the matter-in-hand: I am a fully qualified Santa Claus and am wondering whether you might consider me to run my own \"Santa's Grotto\" in your store.\n",
      "But WAIT! You're probably thinking: \"What makes him so special?\"\n",
      "Well, first of all, I have made several changes to the characterisation of Father Christmas. Rather than greeting the children with shouts of \"Ho, ho, ho!\" I prefer to whisper the phrase \"Dependence is not unfathomable in this cruel world we live in\". In addition, my gifts are ALL hand-made, ranging from felt hoops to vanilla-pod holders.\n",
      "You will note also, from the enclosed sketch, that I have radically redesigned Santa's outfit and have renamed my character \"Lord Buckles\". Would you be interested in employing me? I promise NEVER to let you down.\n",
      "I look forward to hearing from you.\n",
      "\n",
      "Best wishes\n",
      "Robin Cooper\n",
      "[Excerpt from the book: The Timewaster Letters by Robin Cooper]\n",
      "\n"
     ]
    }
   ],
   "source": [
    "stream = open(EXAMPLE_FILE)\n",
    "message = stream.read()\n",
    "stream.close()\n",
    "print(message)"
   ]
  },
  {
   "cell_type": "code",
   "execution_count": null,
   "metadata": {},
   "outputs": [],
   "source": []
  },
  {
   "cell_type": "code",
   "execution_count": 93,
   "metadata": {},
   "outputs": [
    {
     "name": "stdout",
     "output_type": "stream",
     "text": [
      "\n",
      "\n",
      "Dear Mr Still\n",
      "\n",
      "\n",
      "\n",
      "Good tidings to you and all your staff for the festive season ahead (Christmas).\n",
      "\n",
      "Now to the crux of the matter-in-hand: I am a fully qualified Santa Claus and am wondering whether you might consider me to run my own \"Santa's Grotto\" in your store.\n",
      "\n",
      "But WAIT! You're probably thinking: \"What makes him so special?\"\n",
      "\n",
      "Well, first of all, I have made several changes to the characterisation of Father Christmas. Rather than greeting the children with shouts of \"Ho, ho, ho!\" I prefer to whisper the phrase \"Dependence is not unfathomable in this cruel world we live in\". In addition, my gifts are ALL hand-made, ranging from felt hoops to vanilla-pod holders.\n",
      "\n",
      "You will note also, from the enclosed sketch, that I have radically redesigned Santa's outfit and have renamed my character \"Lord Buckles\". Would you be interested in employing me? I promise NEVER to let you down.\n",
      "\n",
      "I look forward to hearing from you.\n",
      "\n",
      "\n",
      "\n",
      "Best wishes\n",
      "\n",
      "Robin Cooper\n",
      "\n",
      "[Excerpt from the book: The Timewaster Letters by Robin Cooper]\n",
      "\n"
     ]
    }
   ],
   "source": [
    "stream = open(EXAMPLE_FILE)\n",
    "\n",
    "is_body = False\n",
    "lines = []\n",
    "\n",
    "for line in stream:\n",
    "    if is_body:\n",
    "        lines.append(line)\n",
    "    elif line =='\\n':\n",
    "        is_body = True\n",
    "        \n",
    "stream.close()\n",
    "\n",
    "email_body = '\\n'.join(lines) # add to one string at the character\n",
    "print(email_body)"
   ]
  },
  {
   "cell_type": "markdown",
   "metadata": {},
   "source": [
    "# Generator Functions"
   ]
  },
  {
   "cell_type": "code",
   "execution_count": 94,
   "metadata": {},
   "outputs": [],
   "source": [
    "def generate_square(N):\n",
    "    for my_number in range(N):\n",
    "        yield my_number ** 2"
   ]
  },
  {
   "cell_type": "code",
   "execution_count": 95,
   "metadata": {},
   "outputs": [
    {
     "name": "stdout",
     "output_type": "stream",
     "text": [
      "0 ->1 ->4 ->"
     ]
    }
   ],
   "source": [
    "for i in generate_square(3):\n",
    "    print(i, end=' ->')"
   ]
  },
  {
   "cell_type": "code",
   "execution_count": 96,
   "metadata": {},
   "outputs": [],
   "source": [
    "def email_body_generator(path):\n",
    "    \n",
    "    for root, dirnames, filenames in walk(path):\n",
    "        for file_name in filenames:\n",
    "            \n",
    "            filepath = join(root, file_name)\n",
    "            \n",
    "            stream = open(filepath, encoding='latin-1')\n",
    "\n",
    "            is_body = False\n",
    "            lines = []\n",
    "\n",
    "            for line in stream:\n",
    "                if is_body:\n",
    "                    lines.append(line)\n",
    "                elif line =='\\n':\n",
    "                    is_body = True\n",
    "\n",
    "            stream.close()\n",
    "\n",
    "            email_body = '\\n'.join(lines) # add to one string at the character\n",
    "            yield file_name, email_body\n"
   ]
  },
  {
   "cell_type": "code",
   "execution_count": 97,
   "metadata": {},
   "outputs": [],
   "source": [
    "def df_from_directory(path, classification):\n",
    "    rows = []\n",
    "    row_names = []\n",
    "    \n",
    "    for file_name, email_body in email_body_generator(path):\n",
    "        rows.append({'MESSAGE': email_body, 'CATEGORY': classification })\n",
    "        row_names.append(file_name)\n",
    "        \n",
    "    return pd.DataFrame(rows, index=row_names)\n",
    "    "
   ]
  },
  {
   "cell_type": "code",
   "execution_count": 98,
   "metadata": {},
   "outputs": [
    {
     "data": {
      "text/html": [
       "<div>\n",
       "<style scoped>\n",
       "    .dataframe tbody tr th:only-of-type {\n",
       "        vertical-align: middle;\n",
       "    }\n",
       "\n",
       "    .dataframe tbody tr th {\n",
       "        vertical-align: top;\n",
       "    }\n",
       "\n",
       "    .dataframe thead th {\n",
       "        text-align: right;\n",
       "    }\n",
       "</style>\n",
       "<table border=\"1\" class=\"dataframe\">\n",
       "  <thead>\n",
       "    <tr style=\"text-align: right;\">\n",
       "      <th></th>\n",
       "      <th>MESSAGE</th>\n",
       "      <th>CATEGORY</th>\n",
       "    </tr>\n",
       "  </thead>\n",
       "  <tbody>\n",
       "    <tr>\n",
       "      <th>00260.c75ce8b8d8bfc55723426979d260bf61</th>\n",
       "      <td>This is a Multipart MIME message. Since your m...</td>\n",
       "      <td>1</td>\n",
       "    </tr>\n",
       "    <tr>\n",
       "      <th>00242.e030c8b1f053037aeffb062f3a34b523</th>\n",
       "      <td>\\n\\nDear Sir or Madam\\n\\n\\n\\nIn the past you h...</td>\n",
       "      <td>1</td>\n",
       "    </tr>\n",
       "    <tr>\n",
       "      <th>00267.ef433fb350170f28a1567cbc24900e53</th>\n",
       "      <td>ATTN:\\n\\n\\n\\nI am Edward Mulete JR. the son of...</td>\n",
       "      <td>1</td>\n",
       "    </tr>\n",
       "    <tr>\n",
       "      <th>00496.1a37de098f6c8847c3c7839d73cc7106</th>\n",
       "      <td>&lt;html&gt;\\n\\n&lt;head&gt;\\n\\n&lt;title&gt;Toy&lt;/title&gt;\\n\\n&lt;/he...</td>\n",
       "      <td>1</td>\n",
       "    </tr>\n",
       "    <tr>\n",
       "      <th>00031.a78bb452b3a7376202b5e62a81530449</th>\n",
       "      <td>Suppliers of Computers, Printers, etc. &amp; Consu...</td>\n",
       "      <td>1</td>\n",
       "    </tr>\n",
       "  </tbody>\n",
       "</table>\n",
       "</div>"
      ],
      "text/plain": [
       "                                                                                  MESSAGE  \\\n",
       "00260.c75ce8b8d8bfc55723426979d260bf61  This is a Multipart MIME message. Since your m...   \n",
       "00242.e030c8b1f053037aeffb062f3a34b523  \\n\\nDear Sir or Madam\\n\\n\\n\\nIn the past you h...   \n",
       "00267.ef433fb350170f28a1567cbc24900e53  ATTN:\\n\\n\\n\\nI am Edward Mulete JR. the son of...   \n",
       "00496.1a37de098f6c8847c3c7839d73cc7106  <html>\\n\\n<head>\\n\\n<title>Toy</title>\\n\\n</he...   \n",
       "00031.a78bb452b3a7376202b5e62a81530449  Suppliers of Computers, Printers, etc. & Consu...   \n",
       "\n",
       "                                        CATEGORY  \n",
       "00260.c75ce8b8d8bfc55723426979d260bf61         1  \n",
       "00242.e030c8b1f053037aeffb062f3a34b523         1  \n",
       "00267.ef433fb350170f28a1567cbc24900e53         1  \n",
       "00496.1a37de098f6c8847c3c7839d73cc7106         1  \n",
       "00031.a78bb452b3a7376202b5e62a81530449         1  "
      ]
     },
     "execution_count": 98,
     "metadata": {},
     "output_type": "execute_result"
    }
   ],
   "source": [
    "spam_emails = df_from_directory(SPAM_1_PATH, 1)\n",
    "spam_emails = spam_emails.append(df_from_directory(SPAM_2_PATH, 1))\n",
    "spam_emails.head()"
   ]
  },
  {
   "cell_type": "code",
   "execution_count": 99,
   "metadata": {},
   "outputs": [
    {
     "data": {
      "text/plain": [
       "(1898, 2)"
      ]
     },
     "execution_count": 99,
     "metadata": {},
     "output_type": "execute_result"
    }
   ],
   "source": [
    "spam_emails.shape"
   ]
  },
  {
   "cell_type": "code",
   "execution_count": 100,
   "metadata": {},
   "outputs": [
    {
     "data": {
      "text/html": [
       "<div>\n",
       "<style scoped>\n",
       "    .dataframe tbody tr th:only-of-type {\n",
       "        vertical-align: middle;\n",
       "    }\n",
       "\n",
       "    .dataframe tbody tr th {\n",
       "        vertical-align: top;\n",
       "    }\n",
       "\n",
       "    .dataframe thead th {\n",
       "        text-align: right;\n",
       "    }\n",
       "</style>\n",
       "<table border=\"1\" class=\"dataframe\">\n",
       "  <thead>\n",
       "    <tr style=\"text-align: right;\">\n",
       "      <th></th>\n",
       "      <th>MESSAGE</th>\n",
       "      <th>CATEGORY</th>\n",
       "    </tr>\n",
       "  </thead>\n",
       "  <tbody>\n",
       "    <tr>\n",
       "      <th>02259.75e1cd5cf4a8857fb04b58ff179bed51</th>\n",
       "      <td>URL: http://www.newsisfree.com/click/-5,853546...</td>\n",
       "      <td>2</td>\n",
       "    </tr>\n",
       "    <tr>\n",
       "      <th>00427.49db73be9017efca7355ee80f173a26c</th>\n",
       "      <td>Jim Whitehead wrote:\\n\\n\\n\\n&gt;Great, this is ha...</td>\n",
       "      <td>2</td>\n",
       "    </tr>\n",
       "    <tr>\n",
       "      <th>01465.b1fa1feb0603eff01231fa4a5a74cf37</th>\n",
       "      <td>&gt;Anyway I'm making good progress and my implem...</td>\n",
       "      <td>2</td>\n",
       "    </tr>\n",
       "    <tr>\n",
       "      <th>01869.1eb8e1093d75d3694e00857f680fd768</th>\n",
       "      <td>URL: http://scriptingnews.userland.com/backiss...</td>\n",
       "      <td>2</td>\n",
       "    </tr>\n",
       "    <tr>\n",
       "      <th>01341.34cf1021232db9d1c782888dcd1e5328</th>\n",
       "      <td>| \\n\\n| 0 hits here. :(\\n\\n| \\n\\n\\n\\nI also ge...</td>\n",
       "      <td>2</td>\n",
       "    </tr>\n",
       "  </tbody>\n",
       "</table>\n",
       "</div>"
      ],
      "text/plain": [
       "                                                                                  MESSAGE  \\\n",
       "02259.75e1cd5cf4a8857fb04b58ff179bed51  URL: http://www.newsisfree.com/click/-5,853546...   \n",
       "00427.49db73be9017efca7355ee80f173a26c  Jim Whitehead wrote:\\n\\n\\n\\n>Great, this is ha...   \n",
       "01465.b1fa1feb0603eff01231fa4a5a74cf37  >Anyway I'm making good progress and my implem...   \n",
       "01869.1eb8e1093d75d3694e00857f680fd768  URL: http://scriptingnews.userland.com/backiss...   \n",
       "01341.34cf1021232db9d1c782888dcd1e5328  | \\n\\n| 0 hits here. :(\\n\\n| \\n\\n\\n\\nI also ge...   \n",
       "\n",
       "                                        CATEGORY  \n",
       "02259.75e1cd5cf4a8857fb04b58ff179bed51         2  \n",
       "00427.49db73be9017efca7355ee80f173a26c         2  \n",
       "01465.b1fa1feb0603eff01231fa4a5a74cf37         2  \n",
       "01869.1eb8e1093d75d3694e00857f680fd768         2  \n",
       "01341.34cf1021232db9d1c782888dcd1e5328         2  "
      ]
     },
     "execution_count": 100,
     "metadata": {},
     "output_type": "execute_result"
    }
   ],
   "source": [
    "non_spam_emails = df_from_directory(EASY_NONSPAM_1_PATH, 2)\n",
    "non_spam_emails = non_spam_emails.append(df_from_directory(EASY_NONSPAM_2_PATH, 2))\n",
    "non_spam_emails.head()"
   ]
  },
  {
   "cell_type": "code",
   "execution_count": 101,
   "metadata": {},
   "outputs": [
    {
     "data": {
      "text/plain": [
       "(3901, 2)"
      ]
     },
     "execution_count": 101,
     "metadata": {},
     "output_type": "execute_result"
    }
   ],
   "source": [
    "non_spam_emails.shape"
   ]
  },
  {
   "cell_type": "code",
   "execution_count": 102,
   "metadata": {},
   "outputs": [],
   "source": [
    "data = pd.concat([spam_emails, non_spam_emails])"
   ]
  },
  {
   "cell_type": "code",
   "execution_count": 103,
   "metadata": {},
   "outputs": [
    {
     "data": {
      "text/plain": [
       "(5799, 2)"
      ]
     },
     "execution_count": 103,
     "metadata": {},
     "output_type": "execute_result"
    }
   ],
   "source": [
    "data.shape"
   ]
  },
  {
   "cell_type": "markdown",
   "metadata": {},
   "source": [
    "# Data cleaning: checking for missing values"
   ]
  },
  {
   "cell_type": "code",
   "execution_count": 104,
   "metadata": {},
   "outputs": [
    {
     "data": {
      "text/plain": [
       "False"
      ]
     },
     "execution_count": 104,
     "metadata": {},
     "output_type": "execute_result"
    }
   ],
   "source": [
    "# check if any message body are null\n",
    "data['MESSAGE'].isnull().values.any()"
   ]
  },
  {
   "cell_type": "code",
   "execution_count": 105,
   "metadata": {},
   "outputs": [
    {
     "data": {
      "text/plain": [
       "True"
      ]
     },
     "execution_count": 105,
     "metadata": {},
     "output_type": "execute_result"
    }
   ],
   "source": [
    "# check if there are empty emails (string length zero)\n",
    "(data.MESSAGE.str.len() == 0).any()"
   ]
  },
  {
   "cell_type": "code",
   "execution_count": 106,
   "metadata": {},
   "outputs": [
    {
     "data": {
      "text/plain": [
       "1"
      ]
     },
     "execution_count": 106,
     "metadata": {},
     "output_type": "execute_result"
    }
   ],
   "source": [
    "(data.MESSAGE.str.len() == 0).any().sum()"
   ]
  },
  {
   "cell_type": "markdown",
   "metadata": {},
   "source": [
    "# locate empty emails "
   ]
  },
  {
   "cell_type": "code",
   "execution_count": 107,
   "metadata": {},
   "outputs": [
    {
     "data": {
      "text/plain": [
       "Index(['cmds', 'cmds', 'cmds'], dtype='object')"
      ]
     },
     "execution_count": 107,
     "metadata": {},
     "output_type": "execute_result"
    }
   ],
   "source": [
    "data[data.MESSAGE.str.len() == 0].index"
   ]
  },
  {
   "cell_type": "markdown",
   "metadata": {},
   "source": [
    "# Remove System File entries from DataFrame"
   ]
  },
  {
   "cell_type": "code",
   "execution_count": null,
   "metadata": {},
   "outputs": [],
   "source": []
  },
  {
   "cell_type": "code",
   "execution_count": 108,
   "metadata": {},
   "outputs": [],
   "source": [
    "data.drop(['cmds'], inplace=True)"
   ]
  },
  {
   "cell_type": "code",
   "execution_count": 109,
   "metadata": {},
   "outputs": [
    {
     "data": {
      "text/plain": [
       "(5796, 2)"
      ]
     },
     "execution_count": 109,
     "metadata": {},
     "output_type": "execute_result"
    }
   ],
   "source": [
    "data.shape"
   ]
  },
  {
   "cell_type": "markdown",
   "metadata": {},
   "source": [
    "## Add Document IDs to track emails in dataset"
   ]
  },
  {
   "cell_type": "code",
   "execution_count": 110,
   "metadata": {},
   "outputs": [],
   "source": [
    "document_ids = range(0, len(data.index))\n",
    "data['DOC_ID'] = document_ids"
   ]
  },
  {
   "cell_type": "code",
   "execution_count": 111,
   "metadata": {},
   "outputs": [
    {
     "data": {
      "text/plain": [
       "00260.c75ce8b8d8bfc55723426979d260bf61       0\n",
       "00242.e030c8b1f053037aeffb062f3a34b523       1\n",
       "00267.ef433fb350170f28a1567cbc24900e53       2\n",
       "00496.1a37de098f6c8847c3c7839d73cc7106       3\n",
       "00031.a78bb452b3a7376202b5e62a81530449       4\n",
       "                                          ... \n",
       "01299.21bf6f0946fe21adc3e99db3e541ee57    5791\n",
       "01336.03d61f76f58b98d6c4c0f4f303994db4    5792\n",
       "00490.9c5dd006a16b1e30c9162ba4b4b75ea8    5793\n",
       "00231.8096ae53e70b1b72b5935b12b823597b    5794\n",
       "00030.cc523265aefc37ee6ce3015d8ff6aa24    5795\n",
       "Name: DOC_ID, Length: 5796, dtype: int64"
      ]
     },
     "execution_count": 111,
     "metadata": {},
     "output_type": "execute_result"
    }
   ],
   "source": [
    "data.DOC_ID"
   ]
  },
  {
   "cell_type": "code",
   "execution_count": 112,
   "metadata": {},
   "outputs": [
    {
     "data": {
      "text/html": [
       "<div>\n",
       "<style scoped>\n",
       "    .dataframe tbody tr th:only-of-type {\n",
       "        vertical-align: middle;\n",
       "    }\n",
       "\n",
       "    .dataframe tbody tr th {\n",
       "        vertical-align: top;\n",
       "    }\n",
       "\n",
       "    .dataframe thead th {\n",
       "        text-align: right;\n",
       "    }\n",
       "</style>\n",
       "<table border=\"1\" class=\"dataframe\">\n",
       "  <thead>\n",
       "    <tr style=\"text-align: right;\">\n",
       "      <th></th>\n",
       "      <th>MESSAGE</th>\n",
       "      <th>CATEGORY</th>\n",
       "      <th>FILE_NAME</th>\n",
       "    </tr>\n",
       "    <tr>\n",
       "      <th>DOC_ID</th>\n",
       "      <th></th>\n",
       "      <th></th>\n",
       "      <th></th>\n",
       "    </tr>\n",
       "  </thead>\n",
       "  <tbody>\n",
       "    <tr>\n",
       "      <th>0</th>\n",
       "      <td>This is a Multipart MIME message. Since your m...</td>\n",
       "      <td>1</td>\n",
       "      <td>00260.c75ce8b8d8bfc55723426979d260bf61</td>\n",
       "    </tr>\n",
       "    <tr>\n",
       "      <th>1</th>\n",
       "      <td>\\n\\nDear Sir or Madam\\n\\n\\n\\nIn the past you h...</td>\n",
       "      <td>1</td>\n",
       "      <td>00242.e030c8b1f053037aeffb062f3a34b523</td>\n",
       "    </tr>\n",
       "    <tr>\n",
       "      <th>2</th>\n",
       "      <td>ATTN:\\n\\n\\n\\nI am Edward Mulete JR. the son of...</td>\n",
       "      <td>1</td>\n",
       "      <td>00267.ef433fb350170f28a1567cbc24900e53</td>\n",
       "    </tr>\n",
       "    <tr>\n",
       "      <th>3</th>\n",
       "      <td>&lt;html&gt;\\n\\n&lt;head&gt;\\n\\n&lt;title&gt;Toy&lt;/title&gt;\\n\\n&lt;/he...</td>\n",
       "      <td>1</td>\n",
       "      <td>00496.1a37de098f6c8847c3c7839d73cc7106</td>\n",
       "    </tr>\n",
       "    <tr>\n",
       "      <th>4</th>\n",
       "      <td>Suppliers of Computers, Printers, etc. &amp; Consu...</td>\n",
       "      <td>1</td>\n",
       "      <td>00031.a78bb452b3a7376202b5e62a81530449</td>\n",
       "    </tr>\n",
       "  </tbody>\n",
       "</table>\n",
       "</div>"
      ],
      "text/plain": [
       "                                                  MESSAGE  CATEGORY  \\\n",
       "DOC_ID                                                                \n",
       "0       This is a Multipart MIME message. Since your m...         1   \n",
       "1       \\n\\nDear Sir or Madam\\n\\n\\n\\nIn the past you h...         1   \n",
       "2       ATTN:\\n\\n\\n\\nI am Edward Mulete JR. the son of...         1   \n",
       "3       <html>\\n\\n<head>\\n\\n<title>Toy</title>\\n\\n</he...         1   \n",
       "4       Suppliers of Computers, Printers, etc. & Consu...         1   \n",
       "\n",
       "                                     FILE_NAME  \n",
       "DOC_ID                                          \n",
       "0       00260.c75ce8b8d8bfc55723426979d260bf61  \n",
       "1       00242.e030c8b1f053037aeffb062f3a34b523  \n",
       "2       00267.ef433fb350170f28a1567cbc24900e53  \n",
       "3       00496.1a37de098f6c8847c3c7839d73cc7106  \n",
       "4       00031.a78bb452b3a7376202b5e62a81530449  "
      ]
     },
     "execution_count": 112,
     "metadata": {},
     "output_type": "execute_result"
    }
   ],
   "source": [
    "#create an index column\n",
    "data['FILE_NAME'] = data.index \n",
    "data.set_index('DOC_ID', inplace = True )\n",
    "data.head()"
   ]
  },
  {
   "cell_type": "markdown",
   "metadata": {},
   "source": [
    "# Save to file using pandas"
   ]
  },
  {
   "cell_type": "code",
   "execution_count": 113,
   "metadata": {},
   "outputs": [],
   "source": [
    "data.to_json(DATA_JSON_FILE)"
   ]
  },
  {
   "cell_type": "code",
   "execution_count": 114,
   "metadata": {},
   "outputs": [],
   "source": [
    "# Number of spam messages visualised  (pie charts)"
   ]
  },
  {
   "cell_type": "code",
   "execution_count": 115,
   "metadata": {},
   "outputs": [
    {
     "data": {
      "text/plain": [
       "2    3900\n",
       "1    1896\n",
       "Name: CATEGORY, dtype: int64"
      ]
     },
     "execution_count": 115,
     "metadata": {},
     "output_type": "execute_result"
    }
   ],
   "source": [
    "data.CATEGORY.value_counts()"
   ]
  },
  {
   "cell_type": "code",
   "execution_count": 116,
   "metadata": {},
   "outputs": [
    {
     "name": "stdout",
     "output_type": "stream",
     "text": [
      "3900\n"
     ]
    }
   ],
   "source": [
    "amount_of_spam = data.CATEGORY.value_counts()[1]\n",
    "amount_of_non_spam = data.CATEGORY.value_counts()[2]\n",
    "print(amount_of_non_spam)"
   ]
  },
  {
   "cell_type": "code",
   "execution_count": 117,
   "metadata": {},
   "outputs": [
    {
     "data": {
      "image/png": "[encoded data removed]",
      "text/plain": [
       "<Figure size 454x454 with 1 Axes>"
      ]
     },
     "metadata": {},
     "output_type": "display_data"
    }
   ],
   "source": [
    "category_names = ['Spam', 'Legit Mail']\n",
    "sizes = [amount_of_spam, amount_of_non_spam]\n",
    "custom_colors = ['#ff7675', '#74b9ff' ]\n",
    "\n",
    "plt.figure(figsize=(2,2), dpi=227 )\n",
    "plt.pie(sizes, labels=category_names, textprops={'fontsize': 6}, startangle = 50, autopct='%1.0f%%', colors = custom_colors, explode = [0, 0.1] )\n",
    "plt.show()"
   ]
  },
  {
   "cell_type": "code",
   "execution_count": 118,
   "metadata": {},
   "outputs": [
    {
     "data": {
      "image/png": "[encoded data removed]",
      "text/plain": [
       "<Figure size 454x454 with 1 Axes>"
      ]
     },
     "metadata": {},
     "output_type": "display_data"
    }
   ],
   "source": [
    "category_names = ['Spam', 'Legit Mail']\n",
    "sizes = [amount_of_spam, amount_of_non_spam]\n",
    "custom_colors = ['#ff7675', '#74b9ff' ]\n",
    "\n",
    "plt.figure(figsize=(2,2), dpi=227 )\n",
    "plt.pie(sizes, labels=category_names, textprops={'fontsize': 6}, startangle = 50, autopct='%1.0f%%', colors = custom_colors, pctdistance =0.8 )\n",
    "\n",
    "#draw circle\n",
    "centre_circle = plt.Circle( (0,0), radius = 0.6, fc = 'white')\n",
    "plt.gca().add_artist(centre_circle)\n",
    "\n",
    "plt.show()"
   ]
  },
  {
   "cell_type": "markdown",
   "metadata": {},
   "source": [
    "# natural language processing"
   ]
  },
  {
   "cell_type": "code",
   "execution_count": 119,
   "metadata": {},
   "outputs": [
    {
     "data": {
      "text/plain": [
       "'all work and no play makes jack a dull boy'"
      ]
     },
     "execution_count": 119,
     "metadata": {},
     "output_type": "execute_result"
    }
   ],
   "source": [
    "msg = 'All work and no play makes Jack a dull boy'\n",
    "msg.lower()"
   ]
  },
  {
   "cell_type": "markdown",
   "metadata": {},
   "source": [
    "### Download the NLTK Resources"
   ]
  },
  {
   "cell_type": "code",
   "execution_count": 120,
   "metadata": {},
   "outputs": [
    {
     "name": "stderr",
     "output_type": "stream",
     "text": [
      "[nltk_data] Downloading package punkt to /home/gian/nltk_data...\n",
      "[nltk_data]   Package punkt is already up-to-date!\n"
     ]
    },
    {
     "data": {
      "text/plain": [
       "True"
      ]
     },
     "execution_count": 120,
     "metadata": {},
     "output_type": "execute_result"
    }
   ],
   "source": [
    "nltk.download('punkt')"
   ]
  },
  {
   "cell_type": "code",
   "execution_count": 121,
   "metadata": {},
   "outputs": [
    {
     "name": "stderr",
     "output_type": "stream",
     "text": [
      "[nltk_data] Downloading package stopwords to /home/gian/nltk_data...\n",
      "[nltk_data]   Package stopwords is already up-to-date!\n"
     ]
    },
    {
     "data": {
      "text/plain": [
       "True"
      ]
     },
     "execution_count": 121,
     "metadata": {},
     "output_type": "execute_result"
    }
   ],
   "source": [
    "nltk.download('stopwords')"
   ]
  },
  {
   "cell_type": "code",
   "execution_count": 153,
   "metadata": {},
   "outputs": [
    {
     "name": "stderr",
     "output_type": "stream",
     "text": [
      "[nltk_data] Downloading package gutenberg to /home/gian/nltk_data...\n",
      "[nltk_data]   Package gutenberg is already up-to-date!\n",
      "[nltk_data] Downloading package shakespeare to /home/gian/nltk_data...\n",
      "[nltk_data]   Unzipping corpora/shakespeare.zip.\n"
     ]
    },
    {
     "data": {
      "text/plain": [
       "True"
      ]
     },
     "execution_count": 153,
     "metadata": {},
     "output_type": "execute_result"
    }
   ],
   "source": [
    "nltk.download('gutenberg')\n",
    "nltk.download('shakespeare')"
   ]
  },
  {
   "cell_type": "markdown",
   "metadata": {},
   "source": [
    "## tokenising"
   ]
  },
  {
   "cell_type": "code",
   "execution_count": 122,
   "metadata": {},
   "outputs": [
    {
     "data": {
      "text/plain": [
       "['All',\n",
       " 'work',\n",
       " 'and',\n",
       " 'no',\n",
       " 'play',\n",
       " 'makes',\n",
       " 'Jack',\n",
       " 'a',\n",
       " 'dull',\n",
       " 'boy',\n",
       " '.',\n",
       " 'To',\n",
       " 'be',\n",
       " 'or',\n",
       " 'not',\n",
       " 'to',\n",
       " 'be',\n",
       " '.',\n",
       " '?',\n",
       " '?',\n",
       " '?',\n",
       " 'Nobody',\n",
       " 'expects',\n",
       " 'the',\n",
       " 'Spanish',\n",
       " 'Inquisition']"
      ]
     },
     "execution_count": 122,
     "metadata": {},
     "output_type": "execute_result"
    }
   ],
   "source": [
    "msg = 'All work and no play makes Jack a dull boy. To be or not to be. ??? Nobody expects the Spanish Inquisition'\n",
    "word_tokenize(msg)"
   ]
  },
  {
   "cell_type": "markdown",
   "metadata": {},
   "source": [
    "## removing stop words & word stems and stemming"
   ]
  },
  {
   "cell_type": "code",
   "execution_count": 123,
   "metadata": {},
   "outputs": [],
   "source": [
    "stop_words = stopwords.words('english')"
   ]
  },
  {
   "cell_type": "code",
   "execution_count": 124,
   "metadata": {},
   "outputs": [],
   "source": [
    "words = word_tokenize(msg.lower())\n",
    "filtered_words = []\n",
    "stemmer = PorterStemmer()\n",
    "\n",
    "for word in words:\n",
    "    if word not in stop_words and word.isalpha() :\n",
    "        stemmed_word = stemmer.stem(word)\n",
    "        filtered_words.append(stemmed_word)"
   ]
  },
  {
   "cell_type": "code",
   "execution_count": 125,
   "metadata": {},
   "outputs": [
    {
     "name": "stdout",
     "output_type": "stream",
     "text": [
      "['work', 'play', 'make', 'jack', 'dull', 'boy', 'nobodi', 'expect', 'spanish', 'inquisit']\n"
     ]
    }
   ],
   "source": [
    "print(filtered_words)"
   ]
  },
  {
   "cell_type": "markdown",
   "metadata": {},
   "source": [
    "## removing html tags"
   ]
  },
  {
   "cell_type": "code",
   "execution_count": 126,
   "metadata": {},
   "outputs": [
    {
     "name": "stdout",
     "output_type": "stream",
     "text": [
      "ATTN:\n",
      "\n",
      "\n",
      "\n",
      "I am Edward Mulete JR. the son of Mr. \n",
      "\n",
      "\n",
      "\n",
      "STEVE MBEKI MULETE from Zimbabwe. I am sorry this mail\n",
      "\n",
      "Will surprise you, though we do not know, my mother Mrs. Clara \n",
      "\n",
      "Got your contact through her private search.\n",
      "\n",
      "Due to the current war against white farmers in\n",
      "\n",
      "Zimbabwe and the support of President Robert Mugabe to\n",
      "\n",
      "Claim all white owned farms in our country to gain\n",
      "\n",
      "Favor for re-election.\n",
      "\n",
      "\n",
      "\n",
      "All white farmers were asked to\n",
      "\n",
      "Surrender their farms to the government for\n",
      "\n",
      "Re-distribution and infact to his political party\n",
      "\n",
      "Members and my father though black was the treasury\n",
      "\n",
      "of the farmers association and a strong member of an\n",
      "\n",
      "Opposition party that did not support the president\n",
      "\n",
      "Idea. He then ordered his party members and the police\n",
      "\n",
      "Under his pay row to invade my father's farm and burn\n",
      "\n",
      "Down everything in the farm. They killed my\n",
      "\n",
      "Father and took away a lot of items from his farm.\n",
      "\n",
      "After the death of my father, our local pastor and a\n",
      "\n",
      "Close friend of my father handed us over will\n",
      "\n",
      "Documents with instructions from my father that we\n",
      "\n",
      "Should leave Zimbabwe incase anything happen to him. The will \n",
      "\n",
      "Documents has a certificate of deposit, confirming a deposit\n",
      "\n",
      "Kept in custody for us in a security company unknown\n",
      "\n",
      "To the company that the content is money hence it was deposited as \n",
      "\n",
      "Personal belongings and ensure that we do not remain here as we could\n",
      "\n",
      "Easily be found by his enemies. The total amount is\n",
      "\n",
      "US$21.5M.We are therefore soliciting for\n",
      "\n",
      "Your assistance to help us move the fund out of\n",
      "\n",
      "Zimbabwe, as our fate and future is far from\n",
      "\n",
      "reality, hence this mail to you. The president's present ban of\n",
      "\n",
      "International Press into Zimbabwe and the drop from office of the \n",
      "\n",
      "Finance Minister to avoid giving white farmers fund Transfer\n",
      "\n",
      "Clearance above US$1M is just a few of the\n",
      "\n",
      "Unthinkable things he is committing in my Country.\n",
      "\n",
      "I have tried to reach my father's close friend Mr.\n",
      "\n",
      "John Casahans from Australia also a farmer who was\n",
      "\n",
      "Leaving in Zimbabwe with us but left with his family\n",
      "\n",
      "Late last year following this ugly development to no\n",
      "\n",
      "Avail.\n",
      "\n",
      "Should you be interested to help us, contact me\n",
      "\n",
      "Immediately via email for easy communication and I\n",
      "\n",
      "Will furnish you with the time frame and modalities of\n",
      "\n",
      "the transaction. We have concluded a wonderful plan of \n",
      "\n",
      "Caring out the transfer within two weeks. Please note that \n",
      "\n",
      "This transaction is100% confidential and risk free and will \n",
      "\n",
      "Not endanger you or us in any way. We have resolved to give you 20%\n",
      "\n",
      "Of the total sum upon confirmation of the fund in any\n",
      "\n",
      "Account of your choice were the incident of taxation\n",
      "\n",
      "will not take much tool on the money and we look\n",
      "\n",
      "Forward to coming over to your country to invest our\n",
      "\n",
      "Share and settle there. I will a private\n",
      "\n",
      "Phone so that our conversation can be\n",
      "\n",
      "100% confidential.\n",
      "\n",
      "\n",
      "\n",
      "Please do not use the reply button, reply only to \n",
      "\n",
      "\n",
      "\n",
      "Edmulete7@netscape.net Please take note.\n",
      "\n",
      "\n",
      "\n",
      "God bless you indeed as you help yourself and us.\n",
      "\n",
      "\n",
      "\n",
      "Mr. EDWARD MULETE\n",
      "\n",
      " \n",
      "\n",
      "\n",
      "\n",
      "\n",
      "\n",
      "\n",
      "\n",
      "-- \n",
      "\n",
      "Irish Linux Users' Group Social Events: social@linux.ie\n",
      "\n",
      "http://www.linux.ie/mailman/listinfo/social for (un)subscription information.\n",
      "\n",
      "List maintainer: listmaster@linux.ie\n",
      "\n"
     ]
    }
   ],
   "source": [
    "soup = BeautifulSoup(data.at[2, 'MESSAGE'], 'html.parser')\n",
    "print(soup.prettify())"
   ]
  },
  {
   "cell_type": "code",
   "execution_count": 127,
   "metadata": {},
   "outputs": [
    {
     "data": {
      "text/plain": [
       "\"ATTN:\\n\\n\\n\\nI am Edward Mulete JR. the son of Mr. \\n\\n\\n\\nSTEVE MBEKI MULETE from Zimbabwe. I am sorry this mail\\n\\nWill surprise you, though we do not know, my mother Mrs. Clara \\n\\nGot your contact through her private search.\\n\\nDue to the current war against white farmers in\\n\\nZimbabwe and the support of President Robert Mugabe to\\n\\nClaim all white owned farms in our country to gain\\n\\nFavor for re-election.\\n\\n\\n\\nAll white farmers were asked to\\n\\nSurrender their farms to the government for\\n\\nRe-distribution and infact to his political party\\n\\nMembers and my father though black was the treasury\\n\\nof the farmers association and a strong member of an\\n\\nOpposition party that did not support the president\\n\\nIdea. He then ordered his party members and the police\\n\\nUnder his pay row to invade my father's farm and burn\\n\\nDown everything in the farm. They killed my\\n\\nFather and took away a lot of items from his farm.\\n\\nAfter the death of my father, our local pastor and a\\n\\nClose friend of my father handed us over will\\n\\nDocuments with instructions from my father that we\\n\\nShould leave Zimbabwe incase anything happen to him. The will \\n\\nDocuments has a certificate of deposit, confirming a deposit\\n\\nKept in custody for us in a security company unknown\\n\\nTo the company that the content is money hence it was deposited as \\n\\nPersonal belongings and ensure that we do not remain here as we could\\n\\nEasily be found by his enemies. The total amount is\\n\\nUS$21.5M.We are therefore soliciting for\\n\\nYour assistance to help us move the fund out of\\n\\nZimbabwe, as our fate and future is far from\\n\\nreality, hence this mail to you. The president's present ban of\\n\\nInternational Press into Zimbabwe and the drop from office of the \\n\\nFinance Minister to avoid giving white farmers fund Transfer\\n\\nClearance above US$1M is just a few of the\\n\\nUnthinkable things he is committing in my Country.\\n\\nI have tried to reach my father's close friend Mr.\\n\\nJohn Casahans from Australia also a farmer who was\\n\\nLeaving in Zimbabwe with us but left with his family\\n\\nLate last year following this ugly development to no\\n\\nAvail.\\n\\nShould you be interested to help us, contact me\\n\\nImmediately via email for easy communication and I\\n\\nWill furnish you with the time frame and modalities of\\n\\nthe transaction. We have concluded a wonderful plan of \\n\\nCaring out the transfer within two weeks. Please note that \\n\\nThis transaction is100% confidential and risk free and will \\n\\nNot endanger you or us in any way. We have resolved to give you 20%\\n\\nOf the total sum upon confirmation of the fund in any\\n\\nAccount of your choice were the incident of taxation\\n\\nwill not take much tool on the money and we look\\n\\nForward to coming over to your country to invest our\\n\\nShare and settle there. I will a private\\n\\nPhone so that our conversation can be\\n\\n100% confidential.\\n\\n\\n\\nPlease do not use the reply button, reply only to \\n\\n\\n\\nEdmulete7@netscape.net Please take note.\\n\\n\\n\\nGod bless you indeed as you help yourself and us.\\n\\n\\n\\nMr. EDWARD MULETE\\n\\n \\n\\n\\n\\n\\n\\n\\n\\n-- \\n\\nIrish Linux Users' Group Social Events: social@linux.ie\\n\\nhttp://www.linux.ie/mailman/listinfo/social for (un)subscription information.\\n\\nList maintainer: listmaster@linux.ie\\n\\n\\n\\n\\n\""
      ]
     },
     "execution_count": 127,
     "metadata": {},
     "output_type": "execute_result"
    }
   ],
   "source": [
    "soup.get_text()"
   ]
  },
  {
   "cell_type": "markdown",
   "metadata": {},
   "source": [
    "## Functions for Email Processing"
   ]
  },
  {
   "cell_type": "code",
   "execution_count": 128,
   "metadata": {},
   "outputs": [],
   "source": [
    "def clean_message(message, stemmer=PorterStemmer(), stop_words = set(stopwords.words('english'))):\n",
    "    words = word_tokenize(message.lower())\n",
    "    \n",
    "    filtered_words = []\n",
    "    \n",
    "    for word in words:\n",
    "        if word not in stop_words and word.isalpha():\n",
    "            filtered_words.append(stemmer.stem(word))\n",
    "    \n",
    "    soup.get_text()    \n",
    "    \n",
    "    return filtered_words"
   ]
  },
  {
   "cell_type": "code",
   "execution_count": 129,
   "metadata": {},
   "outputs": [],
   "source": [
    "def clean_msg_no_html(message, stemmer=PorterStemmer(), stop_words = set(stopwords.words('english'))):\n",
    "    message = BeautifulSoup(message, 'html.parser')\n",
    "    message = message.get_text()\n",
    "    words = word_tokenize(message.lower())\n",
    "    \n",
    "    filtered_words = []\n",
    "    \n",
    "    for word in words:\n",
    "        if word not in stop_words and word.isalpha():\n",
    "            filtered_words.append(stemmer.stem(word))\n",
    "    \n",
    "    return filtered_words"
   ]
  },
  {
   "cell_type": "code",
   "execution_count": 130,
   "metadata": {},
   "outputs": [
    {
     "data": {
      "text/plain": [
       "['attn',\n",
       " 'edward',\n",
       " 'mulet',\n",
       " 'son',\n",
       " 'steve',\n",
       " 'mbeki',\n",
       " 'mulet',\n",
       " 'zimbabw',\n",
       " 'sorri',\n",
       " 'mail',\n",
       " 'surpris',\n",
       " 'though',\n",
       " 'know',\n",
       " 'mother',\n",
       " 'clara',\n",
       " 'got',\n",
       " 'contact',\n",
       " 'privat',\n",
       " 'search',\n",
       " 'due',\n",
       " 'current',\n",
       " 'war',\n",
       " 'white',\n",
       " 'farmer',\n",
       " 'zimbabw',\n",
       " 'support',\n",
       " 'presid',\n",
       " 'robert',\n",
       " 'mugab',\n",
       " 'claim',\n",
       " 'white',\n",
       " 'own',\n",
       " 'farm',\n",
       " 'countri',\n",
       " 'gain',\n",
       " 'favor',\n",
       " 'white',\n",
       " 'farmer',\n",
       " 'ask',\n",
       " 'surrend',\n",
       " 'farm',\n",
       " 'govern',\n",
       " 'infact',\n",
       " 'polit',\n",
       " 'parti',\n",
       " 'member',\n",
       " 'father',\n",
       " 'though',\n",
       " 'black',\n",
       " 'treasuri',\n",
       " 'farmer',\n",
       " 'associ',\n",
       " 'strong',\n",
       " 'member',\n",
       " 'opposit',\n",
       " 'parti',\n",
       " 'support',\n",
       " 'presid',\n",
       " 'idea',\n",
       " 'order',\n",
       " 'parti',\n",
       " 'member',\n",
       " 'polic',\n",
       " 'pay',\n",
       " 'row',\n",
       " 'invad',\n",
       " 'father',\n",
       " 'farm',\n",
       " 'burn',\n",
       " 'everyth',\n",
       " 'farm',\n",
       " 'kill',\n",
       " 'father',\n",
       " 'took',\n",
       " 'away',\n",
       " 'lot',\n",
       " 'item',\n",
       " 'farm',\n",
       " 'death',\n",
       " 'father',\n",
       " 'local',\n",
       " 'pastor',\n",
       " 'close',\n",
       " 'friend',\n",
       " 'father',\n",
       " 'hand',\n",
       " 'us',\n",
       " 'document',\n",
       " 'instruct',\n",
       " 'father',\n",
       " 'leav',\n",
       " 'zimbabw',\n",
       " 'incas',\n",
       " 'anyth',\n",
       " 'happen',\n",
       " 'document',\n",
       " 'certif',\n",
       " 'deposit',\n",
       " 'confirm',\n",
       " 'deposit',\n",
       " 'kept',\n",
       " 'custodi',\n",
       " 'us',\n",
       " 'secur',\n",
       " 'compani',\n",
       " 'unknown',\n",
       " 'compani',\n",
       " 'content',\n",
       " 'money',\n",
       " 'henc',\n",
       " 'deposit',\n",
       " 'person',\n",
       " 'belong',\n",
       " 'ensur',\n",
       " 'remain',\n",
       " 'could',\n",
       " 'easili',\n",
       " 'found',\n",
       " 'enemi',\n",
       " 'total',\n",
       " 'amount',\n",
       " 'us',\n",
       " 'therefor',\n",
       " 'solicit',\n",
       " 'assist',\n",
       " 'help',\n",
       " 'us',\n",
       " 'move',\n",
       " 'fund',\n",
       " 'zimbabw',\n",
       " 'fate',\n",
       " 'futur',\n",
       " 'far',\n",
       " 'realiti',\n",
       " 'henc',\n",
       " 'mail',\n",
       " 'presid',\n",
       " 'present',\n",
       " 'ban',\n",
       " 'intern',\n",
       " 'press',\n",
       " 'zimbabw',\n",
       " 'drop',\n",
       " 'offic',\n",
       " 'financ',\n",
       " 'minist',\n",
       " 'avoid',\n",
       " 'give',\n",
       " 'white',\n",
       " 'farmer',\n",
       " 'fund',\n",
       " 'transfer',\n",
       " 'clearanc',\n",
       " 'us',\n",
       " 'unthink',\n",
       " 'thing',\n",
       " 'commit',\n",
       " 'countri',\n",
       " 'tri',\n",
       " 'reach',\n",
       " 'father',\n",
       " 'close',\n",
       " 'friend',\n",
       " 'john',\n",
       " 'casahan',\n",
       " 'australia',\n",
       " 'also',\n",
       " 'farmer',\n",
       " 'leav',\n",
       " 'zimbabw',\n",
       " 'us',\n",
       " 'left',\n",
       " 'famili',\n",
       " 'late',\n",
       " 'last',\n",
       " 'year',\n",
       " 'follow',\n",
       " 'ugli',\n",
       " 'develop',\n",
       " 'avail',\n",
       " 'interest',\n",
       " 'help',\n",
       " 'us',\n",
       " 'contact',\n",
       " 'immedi',\n",
       " 'via',\n",
       " 'email',\n",
       " 'easi',\n",
       " 'commun',\n",
       " 'furnish',\n",
       " 'time',\n",
       " 'frame',\n",
       " 'modal',\n",
       " 'transact',\n",
       " 'conclud',\n",
       " 'wonder',\n",
       " 'plan',\n",
       " 'care',\n",
       " 'transfer',\n",
       " 'within',\n",
       " 'two',\n",
       " 'week',\n",
       " 'pleas',\n",
       " 'note',\n",
       " 'transact',\n",
       " 'confidenti',\n",
       " 'risk',\n",
       " 'free',\n",
       " 'endang',\n",
       " 'us',\n",
       " 'way',\n",
       " 'resolv',\n",
       " 'give',\n",
       " 'total',\n",
       " 'sum',\n",
       " 'upon',\n",
       " 'confirm',\n",
       " 'fund',\n",
       " 'account',\n",
       " 'choic',\n",
       " 'incid',\n",
       " 'taxat',\n",
       " 'take',\n",
       " 'much',\n",
       " 'tool',\n",
       " 'money',\n",
       " 'look',\n",
       " 'forward',\n",
       " 'come',\n",
       " 'countri',\n",
       " 'invest',\n",
       " 'share',\n",
       " 'settl',\n",
       " 'privat',\n",
       " 'phone',\n",
       " 'convers',\n",
       " 'confidenti',\n",
       " 'pleas',\n",
       " 'use',\n",
       " 'repli',\n",
       " 'button',\n",
       " 'repli',\n",
       " 'pleas',\n",
       " 'take',\n",
       " 'note',\n",
       " 'god',\n",
       " 'bless',\n",
       " 'inde',\n",
       " 'help',\n",
       " 'us',\n",
       " 'edward',\n",
       " 'mulet',\n",
       " 'irish',\n",
       " 'linux',\n",
       " 'user',\n",
       " 'group',\n",
       " 'social',\n",
       " 'event',\n",
       " 'social',\n",
       " 'http',\n",
       " 'un',\n",
       " 'subscript',\n",
       " 'inform',\n",
       " 'list',\n",
       " 'maintain',\n",
       " 'listmast']"
      ]
     },
     "execution_count": 130,
     "metadata": {},
     "output_type": "execute_result"
    }
   ],
   "source": [
    "clean_msg_no_html(data.at[2, 'MESSAGE'])"
   ]
  },
  {
   "cell_type": "markdown",
   "metadata": {},
   "source": [
    "## Apply Cleaning and Tokenisation to all messages"
   ]
  },
  {
   "cell_type": "markdown",
   "metadata": {},
   "source": [
    "### slicing dataframes and Series and Creating subsets"
   ]
  },
  {
   "cell_type": "code",
   "execution_count": 131,
   "metadata": {},
   "outputs": [
    {
     "data": {
      "text/plain": [
       "'00267.ef433fb350170f28a1567cbc24900e53'"
      ]
     },
     "execution_count": 131,
     "metadata": {},
     "output_type": "execute_result"
    }
   ],
   "source": [
    "data.iat[2, 2]"
   ]
  },
  {
   "cell_type": "code",
   "execution_count": 132,
   "metadata": {},
   "outputs": [
    {
     "data": {
      "text/html": [
       "<div>\n",
       "<style scoped>\n",
       "    .dataframe tbody tr th:only-of-type {\n",
       "        vertical-align: middle;\n",
       "    }\n",
       "\n",
       "    .dataframe tbody tr th {\n",
       "        vertical-align: top;\n",
       "    }\n",
       "\n",
       "    .dataframe thead th {\n",
       "        text-align: right;\n",
       "    }\n",
       "</style>\n",
       "<table border=\"1\" class=\"dataframe\">\n",
       "  <thead>\n",
       "    <tr style=\"text-align: right;\">\n",
       "      <th></th>\n",
       "      <th>MESSAGE</th>\n",
       "      <th>CATEGORY</th>\n",
       "      <th>FILE_NAME</th>\n",
       "    </tr>\n",
       "    <tr>\n",
       "      <th>DOC_ID</th>\n",
       "      <th></th>\n",
       "      <th></th>\n",
       "      <th></th>\n",
       "    </tr>\n",
       "  </thead>\n",
       "  <tbody>\n",
       "    <tr>\n",
       "      <th>0</th>\n",
       "      <td>This is a Multipart MIME message. Since your m...</td>\n",
       "      <td>1</td>\n",
       "      <td>00260.c75ce8b8d8bfc55723426979d260bf61</td>\n",
       "    </tr>\n",
       "    <tr>\n",
       "      <th>1</th>\n",
       "      <td>\\n\\nDear Sir or Madam\\n\\n\\n\\nIn the past you h...</td>\n",
       "      <td>1</td>\n",
       "      <td>00242.e030c8b1f053037aeffb062f3a34b523</td>\n",
       "    </tr>\n",
       "  </tbody>\n",
       "</table>\n",
       "</div>"
      ],
      "text/plain": [
       "                                                  MESSAGE  CATEGORY  \\\n",
       "DOC_ID                                                                \n",
       "0       This is a Multipart MIME message. Since your m...         1   \n",
       "1       \\n\\nDear Sir or Madam\\n\\n\\n\\nIn the past you h...         1   \n",
       "\n",
       "                                     FILE_NAME  \n",
       "DOC_ID                                          \n",
       "0       00260.c75ce8b8d8bfc55723426979d260bf61  \n",
       "1       00242.e030c8b1f053037aeffb062f3a34b523  "
      ]
     },
     "execution_count": 132,
     "metadata": {},
     "output_type": "execute_result"
    }
   ],
   "source": [
    "data.iloc[0:2]"
   ]
  },
  {
   "cell_type": "code",
   "execution_count": 133,
   "metadata": {},
   "outputs": [],
   "source": [
    "first_emails = data.MESSAGE.iloc[0:3]\n",
    "\n",
    "nested_list = first_emails.apply(clean_message)"
   ]
  },
  {
   "cell_type": "code",
   "execution_count": 134,
   "metadata": {},
   "outputs": [
    {
     "data": {
      "text/plain": [
       "412"
      ]
     },
     "execution_count": 134,
     "metadata": {},
     "output_type": "execute_result"
    }
   ],
   "source": [
    "# flat_list = []\n",
    "# for sublist in nested_list:\n",
    "#     for item in sublist:\n",
    "#         flat_list.append(item)\n",
    "\n",
    "flat_list = [item for sublist in nested_list for item in sublist]\n",
    "        \n",
    "len(flat_list)"
   ]
  },
  {
   "cell_type": "code",
   "execution_count": 135,
   "metadata": {},
   "outputs": [
    {
     "name": "stderr",
     "output_type": "stream",
     "text": [
      "/home/gian/anaconda3/lib/python3.8/site-packages/bs4/__init__.py:417: MarkupResemblesLocatorWarning: \"http://www.post-gazette.com/columnists/20020905brian5\n",
      "\" looks like a URL. Beautiful Soup is not an HTTP client. You should probably use an HTTP client like requests to get the document behind the URL, and feed that document to Beautiful Soup.\n",
      "  warnings.warn(\n"
     ]
    },
    {
     "name": "stdout",
     "output_type": "stream",
     "text": [
      "CPU times: user 30.3 s, sys: 0 ns, total: 30.3 s\n",
      "Wall time: 30.3 s\n"
     ]
    }
   ],
   "source": [
    "%%time\n",
    "\n",
    "nestedList = data.MESSAGE.apply(clean_msg_no_html)"
   ]
  },
  {
   "cell_type": "markdown",
   "metadata": {},
   "source": [
    "## Using Logic to Slice Dataframes"
   ]
  },
  {
   "cell_type": "code",
   "execution_count": 136,
   "metadata": {},
   "outputs": [
    {
     "data": {
      "text/html": [
       "<div>\n",
       "<style scoped>\n",
       "    .dataframe tbody tr th:only-of-type {\n",
       "        vertical-align: middle;\n",
       "    }\n",
       "\n",
       "    .dataframe tbody tr th {\n",
       "        vertical-align: top;\n",
       "    }\n",
       "\n",
       "    .dataframe thead th {\n",
       "        text-align: right;\n",
       "    }\n",
       "</style>\n",
       "<table border=\"1\" class=\"dataframe\">\n",
       "  <thead>\n",
       "    <tr style=\"text-align: right;\">\n",
       "      <th></th>\n",
       "      <th>MESSAGE</th>\n",
       "      <th>CATEGORY</th>\n",
       "      <th>FILE_NAME</th>\n",
       "    </tr>\n",
       "    <tr>\n",
       "      <th>DOC_ID</th>\n",
       "      <th></th>\n",
       "      <th></th>\n",
       "      <th></th>\n",
       "    </tr>\n",
       "  </thead>\n",
       "  <tbody>\n",
       "    <tr>\n",
       "      <th>0</th>\n",
       "      <td>This is a Multipart MIME message. Since your m...</td>\n",
       "      <td>1</td>\n",
       "      <td>00260.c75ce8b8d8bfc55723426979d260bf61</td>\n",
       "    </tr>\n",
       "    <tr>\n",
       "      <th>1</th>\n",
       "      <td>\\n\\nDear Sir or Madam\\n\\n\\n\\nIn the past you h...</td>\n",
       "      <td>1</td>\n",
       "      <td>00242.e030c8b1f053037aeffb062f3a34b523</td>\n",
       "    </tr>\n",
       "    <tr>\n",
       "      <th>2</th>\n",
       "      <td>ATTN:\\n\\n\\n\\nI am Edward Mulete JR. the son of...</td>\n",
       "      <td>1</td>\n",
       "      <td>00267.ef433fb350170f28a1567cbc24900e53</td>\n",
       "    </tr>\n",
       "    <tr>\n",
       "      <th>3</th>\n",
       "      <td>&lt;html&gt;\\n\\n&lt;head&gt;\\n\\n&lt;title&gt;Toy&lt;/title&gt;\\n\\n&lt;/he...</td>\n",
       "      <td>1</td>\n",
       "      <td>00496.1a37de098f6c8847c3c7839d73cc7106</td>\n",
       "    </tr>\n",
       "    <tr>\n",
       "      <th>4</th>\n",
       "      <td>Suppliers of Computers, Printers, etc. &amp; Consu...</td>\n",
       "      <td>1</td>\n",
       "      <td>00031.a78bb452b3a7376202b5e62a81530449</td>\n",
       "    </tr>\n",
       "    <tr>\n",
       "      <th>...</th>\n",
       "      <td>...</td>\n",
       "      <td>...</td>\n",
       "      <td>...</td>\n",
       "    </tr>\n",
       "    <tr>\n",
       "      <th>1891</th>\n",
       "      <td>Protect Yourself.\\n\\n\\n\\nPurchase An Extended ...</td>\n",
       "      <td>1</td>\n",
       "      <td>01378.73df5252cb71f89c885ad49b6ae5fa82</td>\n",
       "    </tr>\n",
       "    <tr>\n",
       "      <th>1892</th>\n",
       "      <td>&lt;HTML&gt;&lt;HEAD&gt;&lt;TITLE&gt;MILFhunter&lt;/TITLE&gt;\\n\\n&lt;META...</td>\n",
       "      <td>1</td>\n",
       "      <td>01334.24b7f4702e0da7e9d7a5f4d284adfc96</td>\n",
       "    </tr>\n",
       "    <tr>\n",
       "      <th>1893</th>\n",
       "      <td>&lt;META HTTP-EQUIV=3D\"Content-Type\" CONTENT=3D\"t...</td>\n",
       "      <td>1</td>\n",
       "      <td>00322.9c67ae5dc3348e9a0b9a61a408c3f44e</td>\n",
       "    </tr>\n",
       "    <tr>\n",
       "      <th>1894</th>\n",
       "      <td>SPECIAL SITUATION ALERTS HOT PICK OF THE YEAR\\...</td>\n",
       "      <td>1</td>\n",
       "      <td>00488.e88c2c87a3b72ab47b6420b61279242e</td>\n",
       "    </tr>\n",
       "    <tr>\n",
       "      <th>1895</th>\n",
       "      <td>&lt;html&gt;\\n\\n&lt;script&gt;open(\"http://www.cn1688.net/...</td>\n",
       "      <td>1</td>\n",
       "      <td>00246.d314e68151f961425104dbe6a4e3bc9a</td>\n",
       "    </tr>\n",
       "  </tbody>\n",
       "</table>\n",
       "<p>1896 rows × 3 columns</p>\n",
       "</div>"
      ],
      "text/plain": [
       "                                                  MESSAGE  CATEGORY  \\\n",
       "DOC_ID                                                                \n",
       "0       This is a Multipart MIME message. Since your m...         1   \n",
       "1       \\n\\nDear Sir or Madam\\n\\n\\n\\nIn the past you h...         1   \n",
       "2       ATTN:\\n\\n\\n\\nI am Edward Mulete JR. the son of...         1   \n",
       "3       <html>\\n\\n<head>\\n\\n<title>Toy</title>\\n\\n</he...         1   \n",
       "4       Suppliers of Computers, Printers, etc. & Consu...         1   \n",
       "...                                                   ...       ...   \n",
       "1891    Protect Yourself.\\n\\n\\n\\nPurchase An Extended ...         1   \n",
       "1892    <HTML><HEAD><TITLE>MILFhunter</TITLE>\\n\\n<META...         1   \n",
       "1893    <META HTTP-EQUIV=3D\"Content-Type\" CONTENT=3D\"t...         1   \n",
       "1894    SPECIAL SITUATION ALERTS HOT PICK OF THE YEAR\\...         1   \n",
       "1895    <html>\\n\\n<script>open(\"http://www.cn1688.net/...         1   \n",
       "\n",
       "                                     FILE_NAME  \n",
       "DOC_ID                                          \n",
       "0       00260.c75ce8b8d8bfc55723426979d260bf61  \n",
       "1       00242.e030c8b1f053037aeffb062f3a34b523  \n",
       "2       00267.ef433fb350170f28a1567cbc24900e53  \n",
       "3       00496.1a37de098f6c8847c3c7839d73cc7106  \n",
       "4       00031.a78bb452b3a7376202b5e62a81530449  \n",
       "...                                        ...  \n",
       "1891    01378.73df5252cb71f89c885ad49b6ae5fa82  \n",
       "1892    01334.24b7f4702e0da7e9d7a5f4d284adfc96  \n",
       "1893    00322.9c67ae5dc3348e9a0b9a61a408c3f44e  \n",
       "1894    00488.e88c2c87a3b72ab47b6420b61279242e  \n",
       "1895    00246.d314e68151f961425104dbe6a4e3bc9a  \n",
       "\n",
       "[1896 rows x 3 columns]"
      ]
     },
     "execution_count": 136,
     "metadata": {},
     "output_type": "execute_result"
    }
   ],
   "source": [
    "data[data.CATEGORY ==1]\n"
   ]
  },
  {
   "cell_type": "code",
   "execution_count": 137,
   "metadata": {},
   "outputs": [],
   "source": [
    "doc_ids_spam = data[data.CATEGORY == 1].index"
   ]
  },
  {
   "cell_type": "code",
   "execution_count": 138,
   "metadata": {},
   "outputs": [],
   "source": [
    "doc_ids_ham = data[data.CATEGORY == 2].index"
   ]
  },
  {
   "cell_type": "markdown",
   "metadata": {},
   "source": [
    "### Subsetting a series with an index|"
   ]
  },
  {
   "cell_type": "code",
   "execution_count": 139,
   "metadata": {},
   "outputs": [],
   "source": [
    "nested_list_ham = nestedList.loc[doc_ids_ham]"
   ]
  },
  {
   "cell_type": "code",
   "execution_count": 140,
   "metadata": {},
   "outputs": [],
   "source": [
    "nested_list_spam = nestedList.loc[doc_ids_spam]"
   ]
  },
  {
   "cell_type": "code",
   "execution_count": 141,
   "metadata": {},
   "outputs": [],
   "source": [
    "cleanWordsSpam = [item for entry in nested_list_spam for item in entry]\n",
    "cleanWordsHam = [item for entry in nested_list_ham for item in entry]\n",
    "normal_words = pd.Series(cleanWordsHam).value_counts()"
   ]
  },
  {
   "cell_type": "code",
   "execution_count": 142,
   "metadata": {},
   "outputs": [
    {
     "name": "stdout",
     "output_type": "stream",
     "text": [
      "317499\n",
      "442079\n"
     ]
    },
    {
     "data": {
      "text/plain": [
       "http      7563\n",
       "use       3633\n",
       "list      2880\n",
       "one       2373\n",
       "get       2286\n",
       "mail      2255\n",
       "would     2003\n",
       "like      1931\n",
       "messag    1849\n",
       "work      1800\n",
       "dtype: int64"
      ]
     },
     "execution_count": 142,
     "metadata": {},
     "output_type": "execute_result"
    }
   ],
   "source": [
    "print( len(cleanWordsSpam))\n",
    "print(len(cleanWordsHam) )\n",
    "normal_words[0:10]"
   ]
  },
  {
   "cell_type": "markdown",
   "metadata": {},
   "source": [
    "# Creating a Word Cloud"
   ]
  },
  {
   "cell_type": "code",
   "execution_count": 150,
   "metadata": {},
   "outputs": [
    {
     "data": {
      "image/png": "[encoded data removed]",
      "text/plain": [
       "<Figure size 432x288 with 1 Axes>"
      ]
     },
     "metadata": {
      "needs_background": "light"
     },
     "output_type": "display_data"
    }
   ],
   "source": [
    "soup = BeautifulSoup(data.at[2, 'MESSAGE'], 'html.parser')\n",
    "\n",
    "word_cloud = WordCloud().generate(soup.prettify())\n",
    "plt.imshow(word_cloud, interpolation=\"bilinear\")\n",
    "plt.axis('off')\n",
    "plt.show()"
   ]
  },
  {
   "cell_type": "code",
   "execution_count": 163,
   "metadata": {},
   "outputs": [],
   "source": [
    "example_corpus = nltk.corpus.gutenberg.words('melville-moby_dick.txt')"
   ]
  },
  {
   "cell_type": "code",
   "execution_count": 158,
   "metadata": {},
   "outputs": [],
   "source": [
    "word_list = [''.join(word) for word in example_corpus]\n",
    "novel_as_string = ' '.join(word_list)"
   ]
  },
  {
   "cell_type": "code",
   "execution_count": 160,
   "metadata": {},
   "outputs": [
    {
     "data": {
      "image/png": "[encoded data removed]",
      "text/plain": [
       "<Figure size 432x288 with 1 Axes>"
      ]
     },
     "metadata": {
      "needs_background": "light"
     },
     "output_type": "display_data"
    }
   ],
   "source": [
    "\n",
    "word_cloud = WordCloud().generate(novel_as_string)\n",
    "plt.imshow(word_cloud, interpolation=\"bilinear\")\n",
    "plt.axis('off')\n",
    "plt.show()"
   ]
  },
  {
   "cell_type": "code",
   "execution_count": null,
   "metadata": {},
   "outputs": [],
   "source": []
  }
 ],
 "metadata": {
  "kernelspec": {
   "display_name": "Python 3",
   "language": "python",
   "name": "python3"
  },
  "language_info": {
   "codemirror_mode": {
    "name": "ipython",
    "version": 3
   },
   "file_extension": ".py",
   "mimetype": "text/x-python",
   "name": "python",
   "nbconvert_exporter": "python",
   "pygments_lexer": "ipython3",
   "version": "3.8.5"
  }
 },
 "nbformat": 4,
 "nbformat_minor": 4
}
